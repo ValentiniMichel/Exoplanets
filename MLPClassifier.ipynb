{
 "cells": [
  {
   "cell_type": "code",
   "execution_count": 158,
   "metadata": {},
   "outputs": [
    {
     "name": "stdout",
     "output_type": "stream",
     "text": [
      "<class 'pandas.core.frame.DataFrame'>\n",
      "RangeIndex: 9564 entries, 0 to 9563\n",
      "Data columns (total 50 columns):\n",
      " #   Column             Non-Null Count  Dtype  \n",
      "---  ------             --------------  -----  \n",
      " 0   rowid              9564 non-null   int64  \n",
      " 1   kepid              9564 non-null   int64  \n",
      " 2   kepoi_name         9564 non-null   object \n",
      " 3   kepler_name        2294 non-null   object \n",
      " 4   koi_disposition    9564 non-null   object \n",
      " 5   koi_pdisposition   9564 non-null   object \n",
      " 6   koi_score          8054 non-null   float64\n",
      " 7   koi_fpflag_nt      9564 non-null   int64  \n",
      " 8   koi_fpflag_ss      9564 non-null   int64  \n",
      " 9   koi_fpflag_co      9564 non-null   int64  \n",
      " 10  koi_fpflag_ec      9564 non-null   int64  \n",
      " 11  koi_period         9564 non-null   float64\n",
      " 12  koi_period_err1    9110 non-null   float64\n",
      " 13  koi_period_err2    9110 non-null   float64\n",
      " 14  koi_time0bk        9564 non-null   float64\n",
      " 15  koi_time0bk_err1   9110 non-null   float64\n",
      " 16  koi_time0bk_err2   9110 non-null   float64\n",
      " 17  koi_impact         9201 non-null   float64\n",
      " 18  koi_impact_err1    9110 non-null   float64\n",
      " 19  koi_impact_err2    9110 non-null   float64\n",
      " 20  koi_duration       9564 non-null   float64\n",
      " 21  koi_duration_err1  9110 non-null   float64\n",
      " 22  koi_duration_err2  9110 non-null   float64\n",
      " 23  koi_depth          9201 non-null   float64\n",
      " 24  koi_depth_err1     9110 non-null   float64\n",
      " 25  koi_depth_err2     9110 non-null   float64\n",
      " 26  koi_prad           9201 non-null   float64\n",
      " 27  koi_prad_err1      9201 non-null   float64\n",
      " 28  koi_prad_err2      9201 non-null   float64\n",
      " 29  koi_teq            9201 non-null   float64\n",
      " 30  koi_teq_err1       0 non-null      float64\n",
      " 31  koi_teq_err2       0 non-null      float64\n",
      " 32  koi_insol          9243 non-null   float64\n",
      " 33  koi_insol_err1     9243 non-null   float64\n",
      " 34  koi_insol_err2     9243 non-null   float64\n",
      " 35  koi_model_snr      9201 non-null   float64\n",
      " 36  koi_tce_plnt_num   9218 non-null   float64\n",
      " 37  koi_tce_delivname  9218 non-null   object \n",
      " 38  koi_steff          9201 non-null   float64\n",
      " 39  koi_steff_err1     9096 non-null   float64\n",
      " 40  koi_steff_err2     9081 non-null   float64\n",
      " 41  koi_slogg          9201 non-null   float64\n",
      " 42  koi_slogg_err1     9096 non-null   float64\n",
      " 43  koi_slogg_err2     9096 non-null   float64\n",
      " 44  koi_srad           9201 non-null   float64\n",
      " 45  koi_srad_err1      9096 non-null   float64\n",
      " 46  koi_srad_err2      9096 non-null   float64\n",
      " 47  ra                 9564 non-null   float64\n",
      " 48  dec                9564 non-null   float64\n",
      " 49  koi_kepmag         9563 non-null   float64\n",
      "dtypes: float64(39), int64(6), object(5)\n",
      "memory usage: 3.6+ MB\n"
     ]
    },
    {
     "data": {
      "text/html": [
       "<div>\n",
       "<style scoped>\n",
       "    .dataframe tbody tr th:only-of-type {\n",
       "        vertical-align: middle;\n",
       "    }\n",
       "\n",
       "    .dataframe tbody tr th {\n",
       "        vertical-align: top;\n",
       "    }\n",
       "\n",
       "    .dataframe thead th {\n",
       "        text-align: right;\n",
       "    }\n",
       "</style>\n",
       "<table border=\"1\" class=\"dataframe\">\n",
       "  <thead>\n",
       "    <tr style=\"text-align: right;\">\n",
       "      <th></th>\n",
       "      <th>rowid</th>\n",
       "      <th>kepid</th>\n",
       "      <th>kepoi_name</th>\n",
       "      <th>kepler_name</th>\n",
       "      <th>koi_disposition</th>\n",
       "      <th>koi_pdisposition</th>\n",
       "      <th>koi_score</th>\n",
       "      <th>koi_fpflag_nt</th>\n",
       "      <th>koi_fpflag_ss</th>\n",
       "      <th>koi_fpflag_co</th>\n",
       "      <th>...</th>\n",
       "      <th>koi_steff_err2</th>\n",
       "      <th>koi_slogg</th>\n",
       "      <th>koi_slogg_err1</th>\n",
       "      <th>koi_slogg_err2</th>\n",
       "      <th>koi_srad</th>\n",
       "      <th>koi_srad_err1</th>\n",
       "      <th>koi_srad_err2</th>\n",
       "      <th>ra</th>\n",
       "      <th>dec</th>\n",
       "      <th>koi_kepmag</th>\n",
       "    </tr>\n",
       "  </thead>\n",
       "  <tbody>\n",
       "    <tr>\n",
       "      <th>1716</th>\n",
       "      <td>1717</td>\n",
       "      <td>8026752</td>\n",
       "      <td>K00240.01</td>\n",
       "      <td>Kepler-502 b</td>\n",
       "      <td>0</td>\n",
       "      <td>2</td>\n",
       "      <td>0.007</td>\n",
       "      <td>0</td>\n",
       "      <td>1</td>\n",
       "      <td>0</td>\n",
       "      <td>...</td>\n",
       "      <td>-216.0</td>\n",
       "      <td>4.441</td>\n",
       "      <td>0.052</td>\n",
       "      <td>-0.208</td>\n",
       "      <td>1.049</td>\n",
       "      <td>0.332</td>\n",
       "      <td>-0.111</td>\n",
       "      <td>291.08014</td>\n",
       "      <td>43.860199</td>\n",
       "      <td>14.982</td>\n",
       "    </tr>\n",
       "    <tr>\n",
       "      <th>721</th>\n",
       "      <td>722</td>\n",
       "      <td>10785538</td>\n",
       "      <td>K01313.01</td>\n",
       "      <td>0</td>\n",
       "      <td>2</td>\n",
       "      <td>2</td>\n",
       "      <td>0.000</td>\n",
       "      <td>0</td>\n",
       "      <td>1</td>\n",
       "      <td>1</td>\n",
       "      <td>...</td>\n",
       "      <td>-180.0</td>\n",
       "      <td>4.459</td>\n",
       "      <td>0.084</td>\n",
       "      <td>-0.196</td>\n",
       "      <td>0.954</td>\n",
       "      <td>0.272</td>\n",
       "      <td>-0.117</td>\n",
       "      <td>286.66568</td>\n",
       "      <td>48.144581</td>\n",
       "      <td>13.343</td>\n",
       "    </tr>\n",
       "    <tr>\n",
       "      <th>1413</th>\n",
       "      <td>1414</td>\n",
       "      <td>9412760</td>\n",
       "      <td>K01977.02</td>\n",
       "      <td>Kepler-345 b</td>\n",
       "      <td>0</td>\n",
       "      <td>1</td>\n",
       "      <td>1.000</td>\n",
       "      <td>0</td>\n",
       "      <td>0</td>\n",
       "      <td>0</td>\n",
       "      <td>...</td>\n",
       "      <td>-90.0</td>\n",
       "      <td>4.656</td>\n",
       "      <td>0.012</td>\n",
       "      <td>-0.045</td>\n",
       "      <td>0.646</td>\n",
       "      <td>0.046</td>\n",
       "      <td>-0.020</td>\n",
       "      <td>295.22879</td>\n",
       "      <td>45.971020</td>\n",
       "      <td>14.028</td>\n",
       "    </tr>\n",
       "    <tr>\n",
       "      <th>1043</th>\n",
       "      <td>1044</td>\n",
       "      <td>5474733</td>\n",
       "      <td>K01610.01</td>\n",
       "      <td>0</td>\n",
       "      <td>2</td>\n",
       "      <td>2</td>\n",
       "      <td>0.000</td>\n",
       "      <td>0</td>\n",
       "      <td>0</td>\n",
       "      <td>1</td>\n",
       "      <td>...</td>\n",
       "      <td>-179.0</td>\n",
       "      <td>4.453</td>\n",
       "      <td>0.081</td>\n",
       "      <td>-0.189</td>\n",
       "      <td>0.949</td>\n",
       "      <td>0.277</td>\n",
       "      <td>-0.119</td>\n",
       "      <td>298.39490</td>\n",
       "      <td>40.628910</td>\n",
       "      <td>14.063</td>\n",
       "    </tr>\n",
       "    <tr>\n",
       "      <th>1079</th>\n",
       "      <td>1080</td>\n",
       "      <td>5184584</td>\n",
       "      <td>K01564.01</td>\n",
       "      <td>Kepler-891 b</td>\n",
       "      <td>0</td>\n",
       "      <td>1</td>\n",
       "      <td>0.989</td>\n",
       "      <td>0</td>\n",
       "      <td>0</td>\n",
       "      <td>0</td>\n",
       "      <td>...</td>\n",
       "      <td>-203.0</td>\n",
       "      <td>4.485</td>\n",
       "      <td>0.044</td>\n",
       "      <td>-0.187</td>\n",
       "      <td>1.000</td>\n",
       "      <td>0.257</td>\n",
       "      <td>-0.086</td>\n",
       "      <td>291.08380</td>\n",
       "      <td>40.355251</td>\n",
       "      <td>15.287</td>\n",
       "    </tr>\n",
       "    <tr>\n",
       "      <th>...</th>\n",
       "      <td>...</td>\n",
       "      <td>...</td>\n",
       "      <td>...</td>\n",
       "      <td>...</td>\n",
       "      <td>...</td>\n",
       "      <td>...</td>\n",
       "      <td>...</td>\n",
       "      <td>...</td>\n",
       "      <td>...</td>\n",
       "      <td>...</td>\n",
       "      <td>...</td>\n",
       "      <td>...</td>\n",
       "      <td>...</td>\n",
       "      <td>...</td>\n",
       "      <td>...</td>\n",
       "      <td>...</td>\n",
       "      <td>...</td>\n",
       "      <td>...</td>\n",
       "      <td>...</td>\n",
       "      <td>...</td>\n",
       "      <td>...</td>\n",
       "    </tr>\n",
       "    <tr>\n",
       "      <th>2041</th>\n",
       "      <td>2042</td>\n",
       "      <td>9845898</td>\n",
       "      <td>K02423.01</td>\n",
       "      <td>Kepler-1233 b</td>\n",
       "      <td>0</td>\n",
       "      <td>1</td>\n",
       "      <td>1.000</td>\n",
       "      <td>0</td>\n",
       "      <td>0</td>\n",
       "      <td>0</td>\n",
       "      <td>...</td>\n",
       "      <td>-232.0</td>\n",
       "      <td>4.378</td>\n",
       "      <td>0.067</td>\n",
       "      <td>-0.202</td>\n",
       "      <td>1.169</td>\n",
       "      <td>0.382</td>\n",
       "      <td>-0.127</td>\n",
       "      <td>297.37509</td>\n",
       "      <td>46.662209</td>\n",
       "      <td>14.689</td>\n",
       "    </tr>\n",
       "    <tr>\n",
       "      <th>1061</th>\n",
       "      <td>1062</td>\n",
       "      <td>5219234</td>\n",
       "      <td>K01563.03</td>\n",
       "      <td>0</td>\n",
       "      <td>1</td>\n",
       "      <td>1</td>\n",
       "      <td>1.000</td>\n",
       "      <td>0</td>\n",
       "      <td>0</td>\n",
       "      <td>0</td>\n",
       "      <td>...</td>\n",
       "      <td>-101.0</td>\n",
       "      <td>4.562</td>\n",
       "      <td>0.032</td>\n",
       "      <td>-0.048</td>\n",
       "      <td>0.787</td>\n",
       "      <td>0.051</td>\n",
       "      <td>-0.039</td>\n",
       "      <td>299.22433</td>\n",
       "      <td>40.343182</td>\n",
       "      <td>15.812</td>\n",
       "    </tr>\n",
       "    <tr>\n",
       "      <th>8856</th>\n",
       "      <td>8857</td>\n",
       "      <td>10199984</td>\n",
       "      <td>K05776.01</td>\n",
       "      <td>0</td>\n",
       "      <td>1</td>\n",
       "      <td>1</td>\n",
       "      <td>0.000</td>\n",
       "      <td>0</td>\n",
       "      <td>0</td>\n",
       "      <td>0</td>\n",
       "      <td>...</td>\n",
       "      <td>-160.0</td>\n",
       "      <td>3.641</td>\n",
       "      <td>0.256</td>\n",
       "      <td>-0.336</td>\n",
       "      <td>2.522</td>\n",
       "      <td>1.444</td>\n",
       "      <td>-0.714</td>\n",
       "      <td>288.47318</td>\n",
       "      <td>47.247921</td>\n",
       "      <td>13.183</td>\n",
       "    </tr>\n",
       "    <tr>\n",
       "      <th>645</th>\n",
       "      <td>646</td>\n",
       "      <td>10337517</td>\n",
       "      <td>K01165.01</td>\n",
       "      <td>0</td>\n",
       "      <td>1</td>\n",
       "      <td>1</td>\n",
       "      <td>1.000</td>\n",
       "      <td>0</td>\n",
       "      <td>0</td>\n",
       "      <td>0</td>\n",
       "      <td>...</td>\n",
       "      <td>-107.0</td>\n",
       "      <td>4.498</td>\n",
       "      <td>0.058</td>\n",
       "      <td>-0.065</td>\n",
       "      <td>0.863</td>\n",
       "      <td>0.073</td>\n",
       "      <td>-0.065</td>\n",
       "      <td>291.06293</td>\n",
       "      <td>47.484798</td>\n",
       "      <td>13.916</td>\n",
       "    </tr>\n",
       "    <tr>\n",
       "      <th>9496</th>\n",
       "      <td>9497</td>\n",
       "      <td>9827094</td>\n",
       "      <td>K08186.01</td>\n",
       "      <td>0</td>\n",
       "      <td>2</td>\n",
       "      <td>2</td>\n",
       "      <td>0.000</td>\n",
       "      <td>1</td>\n",
       "      <td>0</td>\n",
       "      <td>1</td>\n",
       "      <td>...</td>\n",
       "      <td>-155.0</td>\n",
       "      <td>4.283</td>\n",
       "      <td>0.242</td>\n",
       "      <td>-0.198</td>\n",
       "      <td>1.088</td>\n",
       "      <td>0.318</td>\n",
       "      <td>-0.260</td>\n",
       "      <td>290.15576</td>\n",
       "      <td>46.631199</td>\n",
       "      <td>13.243</td>\n",
       "    </tr>\n",
       "  </tbody>\n",
       "</table>\n",
       "<p>7064 rows × 50 columns</p>\n",
       "</div>"
      ],
      "text/plain": [
       "      rowid     kepid kepoi_name    kepler_name  koi_disposition  \\\n",
       "1716   1717   8026752  K00240.01   Kepler-502 b                0   \n",
       "721     722  10785538  K01313.01              0                2   \n",
       "1413   1414   9412760  K01977.02   Kepler-345 b                0   \n",
       "1043   1044   5474733  K01610.01              0                2   \n",
       "1079   1080   5184584  K01564.01   Kepler-891 b                0   \n",
       "...     ...       ...        ...            ...              ...   \n",
       "2041   2042   9845898  K02423.01  Kepler-1233 b                0   \n",
       "1061   1062   5219234  K01563.03              0                1   \n",
       "8856   8857  10199984  K05776.01              0                1   \n",
       "645     646  10337517  K01165.01              0                1   \n",
       "9496   9497   9827094  K08186.01              0                2   \n",
       "\n",
       "      koi_pdisposition  koi_score  koi_fpflag_nt  koi_fpflag_ss  \\\n",
       "1716                 2      0.007              0              1   \n",
       "721                  2      0.000              0              1   \n",
       "1413                 1      1.000              0              0   \n",
       "1043                 2      0.000              0              0   \n",
       "1079                 1      0.989              0              0   \n",
       "...                ...        ...            ...            ...   \n",
       "2041                 1      1.000              0              0   \n",
       "1061                 1      1.000              0              0   \n",
       "8856                 1      0.000              0              0   \n",
       "645                  1      1.000              0              0   \n",
       "9496                 2      0.000              1              0   \n",
       "\n",
       "      koi_fpflag_co  ...  koi_steff_err2  koi_slogg  koi_slogg_err1  \\\n",
       "1716              0  ...          -216.0      4.441           0.052   \n",
       "721               1  ...          -180.0      4.459           0.084   \n",
       "1413              0  ...           -90.0      4.656           0.012   \n",
       "1043              1  ...          -179.0      4.453           0.081   \n",
       "1079              0  ...          -203.0      4.485           0.044   \n",
       "...             ...  ...             ...        ...             ...   \n",
       "2041              0  ...          -232.0      4.378           0.067   \n",
       "1061              0  ...          -101.0      4.562           0.032   \n",
       "8856              0  ...          -160.0      3.641           0.256   \n",
       "645               0  ...          -107.0      4.498           0.058   \n",
       "9496              1  ...          -155.0      4.283           0.242   \n",
       "\n",
       "      koi_slogg_err2  koi_srad  koi_srad_err1  koi_srad_err2         ra  \\\n",
       "1716          -0.208     1.049          0.332         -0.111  291.08014   \n",
       "721           -0.196     0.954          0.272         -0.117  286.66568   \n",
       "1413          -0.045     0.646          0.046         -0.020  295.22879   \n",
       "1043          -0.189     0.949          0.277         -0.119  298.39490   \n",
       "1079          -0.187     1.000          0.257         -0.086  291.08380   \n",
       "...              ...       ...            ...            ...        ...   \n",
       "2041          -0.202     1.169          0.382         -0.127  297.37509   \n",
       "1061          -0.048     0.787          0.051         -0.039  299.22433   \n",
       "8856          -0.336     2.522          1.444         -0.714  288.47318   \n",
       "645           -0.065     0.863          0.073         -0.065  291.06293   \n",
       "9496          -0.198     1.088          0.318         -0.260  290.15576   \n",
       "\n",
       "            dec  koi_kepmag  \n",
       "1716  43.860199      14.982  \n",
       "721   48.144581      13.343  \n",
       "1413  45.971020      14.028  \n",
       "1043  40.628910      14.063  \n",
       "1079  40.355251      15.287  \n",
       "...         ...         ...  \n",
       "2041  46.662209      14.689  \n",
       "1061  40.343182      15.812  \n",
       "8856  47.247921      13.183  \n",
       "645   47.484798      13.916  \n",
       "9496  46.631199      13.243  \n",
       "\n",
       "[7064 rows x 50 columns]"
      ]
     },
     "execution_count": 158,
     "metadata": {},
     "output_type": "execute_result"
    }
   ],
   "source": [
    "import pandas as pd\n",
    "from sklearn.multiclass import OneVsRestClassifier\n",
    "from sklearn import metrics\n",
    "from sklearn.metrics import confusion_matrix\n",
    "from sklearn.preprocessing import MinMaxScaler\n",
    "from sklearn import preprocessing\n",
    "import numpy as np\n",
    "from sklearn.decomposition import PCA\n",
    "import matplotlib.pyplot as plt\n",
    "import itertools\n",
    "\n",
    "\n",
    "def plot_confusion_matrix(cm, classes,\n",
    "             normalize=False,\n",
    "             title='Confusion matrix',\n",
    "             cmap=plt.cm.Blues):\n",
    "    #Add Normalization Option\n",
    "    '''prints pretty confusion metric with normalization option '''\n",
    "    if normalize:\n",
    "        cm = cm.astype('float') / cm.sum(axis=1)[:, np.newaxis]\n",
    "        #print(\"Normalized confusion matrix\\\\\\\\\")\n",
    "    #else:\n",
    "        #print('Confusion matrix, without normalization\\\\\\\\')\n",
    "    \n",
    "    plt.imshow(cm, interpolation='nearest', cmap=cmap)\n",
    "    plt.title(title)\n",
    "    plt.colorbar()\n",
    "    tick_marks = np.arange(len(classes))\n",
    "    plt.xticks(tick_marks, classes, rotation=45)\n",
    "    plt.yticks(tick_marks, classes)\n",
    "    \n",
    "    fmt = '.2f' if normalize else 'd'\n",
    "    thresh = cm.max() / 2.\n",
    "    for i, j in itertools.product(range(cm.shape[0]), range(cm.shape[1])):\n",
    "        plt.text(j, i, format(cm[i, j], fmt), horizontalalignment=\"center\", color=\"white\" if cm[i, j] > thresh else \"black\")\n",
    "    \n",
    "    plt.tight_layout()\n",
    "    plt.ylabel('True label')\n",
    "    plt.xlabel('Predicted label')\n",
    "\n",
    "minmaxscaler = True\n",
    "use_pca = False\n",
    "lda = False\n",
    "#Load data\n",
    "df = pd.read_csv(\"exoplanet.csv\")\n",
    "df.info()\n",
    "df = df.fillna(0)\n",
    "df.sort_values('koi_disposition', inplace=True, ascending=False)\n",
    "df = df.iloc[2500:]\n",
    "\n",
    "df = df.sample(frac=1,random_state=42)\n",
    "\n",
    "df = df.replace('CONFIRMED', 0) \n",
    "df = df.replace('CANDIDATE', 1) \n",
    "df = df.replace('FALSE POSITIVE', 2) \n",
    "df.to_csv(\"Exoplanet_mod.csv\")\n",
    "\n",
    "df"
   ]
  },
  {
   "cell_type": "code",
   "execution_count": 159,
   "metadata": {},
   "outputs": [
    {
     "name": "stdout",
     "output_type": "stream",
     "text": [
      "Classes train :  (5651, 1)\n",
      "Features train :  (5651, 42)\n",
      "Classes test : (1413, 1)\n",
      "Features train :  (1413, 42)\n"
     ]
    }
   ],
   "source": [
    "#normalize feature with MinMaxScaler after it we need to fit the data\n",
    "MinMaxScaler = preprocessing.MinMaxScaler()\n",
    "\n",
    "y_data = pd.read_csv('Exoplanet_mod.csv', usecols= ['koi_disposition'])\n",
    "x_data = pd.read_csv('Exoplanet_mod.csv', usecols= ['koi_fpflag_nt','koi_fpflag_ss','koi_fpflag_co','koi_fpflag_ec','koi_period','koi_period_err1','koi_period_err2','koi_time0bk','koi_time0bk_err1','koi_time0bk_err2','koi_impact','koi_impact_err1','koi_impact_err2','koi_duration','koi_duration_err1','koi_duration_err2','koi_depth','koi_depth_err1','koi_depth_err2','koi_prad','koi_prad_err1','koi_prad_err2','koi_teq','koi_teq_err1','koi_teq_err2','koi_insol','koi_insol_err1','koi_insol_err2','koi_model_snr','koi_tce_plnt_num','koi_steff','koi_steff_err1','koi_steff_err2','koi_slogg','koi_slogg_err1','koi_slogg_err2','koi_srad','koi_srad_err1','koi_srad_err2','ra','dec','koi_kepmag'])\n",
    "\n",
    "#take the 80% of data for train and 20% for test\n",
    "x_train = x_data[:5651]#7650\n",
    "y_train = y_data[:5651]\n",
    "\n",
    "x_test = x_data[5651:]\n",
    "y_test = y_data[5651:]\n",
    "\n",
    "x_train = x_train.values\n",
    "x_test = x_test.values\n",
    "\n",
    "print(\"Classes train : \", y_train.shape)\n",
    "print(\"Features train : \", x_train.shape)\n",
    "\n",
    "print(\"Classes test :\", y_test.shape)\n",
    "print(\"Features train : \", x_test.shape)\n",
    "\n",
    "if minmaxscaler:\n",
    "    x_train = MinMaxScaler.fit_transform(x_train)\n",
    "    x_test = MinMaxScaler.fit_transform(x_test)\n"
   ]
  },
  {
   "cell_type": "code",
   "execution_count": 160,
   "metadata": {},
   "outputs": [],
   "source": [
    "from sklearn.decomposition import PCA\n",
    "if use_pca : \n",
    "    # Calculate the mean of each feature and center the data\n",
    "    m = np.mean(x_train, axis=0)\n",
    "    Xc = x_train - m\n",
    "\n",
    "    m1 = np.mean(x_test, axis=0)\n",
    "    Xc_t = x_test - m1\n",
    "\n",
    "    # Calculate the covariance matrix of the centred data\n",
    "    C = np.cov(Xc, rowvar=False)\n",
    "    C1 = np.cov(Xc_t, rowvar=False)\n",
    "\n",
    "    # Calculate eigenvalues and eigenvectors of the covariance matrix\n",
    "    lambdas, U = np.linalg.eigh(C)\n",
    "    lambdas1, U1 = np.linalg.eigh(C1)\n",
    "\n",
    "    # Order the eigenvalues from largest to smallest\n",
    "\n",
    "    best_eig_idxs = np.argsort(lambdas)[::-1]\n",
    "    best_eig = lambdas[best_eig_idxs]\n",
    "    best_U = U[:, best_eig_idxs]\n",
    "\n",
    "    best_eig_idxs1 = np.argsort(lambdas1)[::-1]\n",
    "    best_eig1 = lambdas1[best_eig_idxs1]\n",
    "    best_U1 = U1[:, best_eig_idxs1]\n",
    "\n",
    "    # I construct the transformation matrix T: \n",
    "    T = best_U[:, :4]\n",
    "    T1 = best_U1[:, :4]\n",
    "\n",
    "    # Apply the transformation to the train data, make a scatter plot of the transformed data\n",
    "    # The transformation is performed via the inner product of the transformation matrix T\n",
    "    # and the (centered) data matrix\n",
    "    x_train = np.dot(Xc, T)\n",
    "    x_test = np.dot(Xc_t, T1)"
   ]
  },
  {
   "cell_type": "code",
   "execution_count": 161,
   "metadata": {},
   "outputs": [],
   "source": [
    "#Calculate LDA with SKLEARN\n",
    "from sklearn.discriminant_analysis import LinearDiscriminantAnalysis\n",
    "if lda :\n",
    "    lda = LinearDiscriminantAnalysis(n_components=2)\n",
    "    lda.fit(x_train, y_train)\n",
    "    x_train = lda.transform(x_train)\n",
    "    x_test = lda.transform(x_test)"
   ]
  },
  {
   "cell_type": "code",
   "execution_count": 162,
   "metadata": {},
   "outputs": [
    {
     "name": "stderr",
     "output_type": "stream",
     "text": [
      "d:\\program file\\python\\lib\\site-packages\\sklearn\\neural_network\\_multilayer_perceptron.py:1118: DataConversionWarning: A column-vector y was passed when a 1d array was expected. Please change the shape of y to (n_samples, ), for example using ravel().\n",
      "  y = column_or_1d(y, warn=True)\n",
      "d:\\program file\\python\\lib\\site-packages\\sklearn\\neural_network\\_multilayer_perceptron.py:559: ConvergenceWarning: lbfgs failed to converge (status=1):\n",
      "STOP: TOTAL NO. of ITERATIONS REACHED LIMIT.\n",
      "\n",
      "Increase the number of iterations (max_iter) or scale the data as shown in:\n",
      "    https://scikit-learn.org/stable/modules/preprocessing.html\n",
      "  self.n_iter_ = _check_optimize_result(\"lbfgs\", opt_res, self.max_iter)\n"
     ]
    },
    {
     "data": {
      "image/png": "[encoded data removed]",
      "text/plain": [
       "<Figure size 432x288 with 2 Axes>"
      ]
     },
     "metadata": {
      "needs_background": "light"
     },
     "output_type": "display_data"
    },
    {
     "name": "stdout",
     "output_type": "stream",
     "text": [
      "              precision    recall  f1-score   support\n",
      "\n",
      "           0       0.72      0.84      0.78       483\n",
      "           1       0.77      0.65      0.70       460\n",
      "           2       0.97      0.96      0.96       470\n",
      "\n",
      "    accuracy                           0.82      1413\n",
      "   macro avg       0.82      0.82      0.81      1413\n",
      "weighted avg       0.82      0.82      0.82      1413\n",
      "\n"
     ]
    }
   ],
   "source": [
    "from sklearn.neural_network import MLPClassifier\n",
    "from sklearn.datasets import make_classification\n",
    "from sklearn.model_selection import train_test_split\n",
    "\n",
    "classes = ['0','1','2']\n",
    "\n",
    "clf = MLPClassifier(hidden_layer_sizes=100, random_state=1, max_iter=5000, solver=\"lbfgs\").fit(x_train, y_train)\n",
    "\n",
    "predict=clf.predict(x_test)\n",
    "confusion_matrix= metrics.confusion_matrix(y_test, predict)\n",
    "clf.score(x_test, y_test)\n",
    "\n",
    "plot_confusion_matrix(confusion_matrix, classes)\n",
    "plt.show()\n",
    "\n",
    "classification_metrics = metrics.classification_report(y_test, np.round(predict), target_names=classes)\n",
    "cm_dict = metrics.classification_report(y_test, np.round(predict), target_names=classes, output_dict=True)\n",
    "print(classification_metrics)"
   ]
  },
  {
   "cell_type": "code",
   "execution_count": 163,
   "metadata": {},
   "outputs": [
    {
     "name": "stderr",
     "output_type": "stream",
     "text": [
      "d:\\program file\\python\\lib\\site-packages\\sklearn\\neural_network\\_multilayer_perceptron.py:559: ConvergenceWarning: lbfgs failed to converge (status=1):\n",
      "STOP: TOTAL NO. of ITERATIONS REACHED LIMIT.\n",
      "\n",
      "Increase the number of iterations (max_iter) or scale the data as shown in:\n",
      "    https://scikit-learn.org/stable/modules/preprocessing.html\n",
      "  self.n_iter_ = _check_optimize_result(\"lbfgs\", opt_res, self.max_iter)\n"
     ]
    },
    {
     "data": {
      "image/png": "[encoded data removed]",
      "text/plain": [
       "<Figure size 432x288 with 2 Axes>"
      ]
     },
     "metadata": {
      "needs_background": "light"
     },
     "output_type": "display_data"
    },
    {
     "name": "stdout",
     "output_type": "stream",
     "text": [
      "###################  lbfgs with hidden layers =  [100, 200, 500, 800]  ####################\n",
      "              precision    recall  f1-score   support\n",
      "\n",
      "           0       0.72      0.84      0.78       483\n",
      "           1       0.77      0.65      0.70       460\n",
      "           2       0.97      0.96      0.96       470\n",
      "\n",
      "    accuracy                           0.82      1413\n",
      "   macro avg       0.82      0.82      0.81      1413\n",
      "weighted avg       0.82      0.82      0.82      1413\n",
      "\n"
     ]
    },
    {
     "name": "stderr",
     "output_type": "stream",
     "text": [
      "d:\\program file\\python\\lib\\site-packages\\sklearn\\neural_network\\_multilayer_perceptron.py:559: ConvergenceWarning: lbfgs failed to converge (status=1):\n",
      "STOP: TOTAL NO. of ITERATIONS REACHED LIMIT.\n",
      "\n",
      "Increase the number of iterations (max_iter) or scale the data as shown in:\n",
      "    https://scikit-learn.org/stable/modules/preprocessing.html\n",
      "  self.n_iter_ = _check_optimize_result(\"lbfgs\", opt_res, self.max_iter)\n"
     ]
    },
    {
     "data": {
      "image/png": "[encoded data removed]",
      "text/plain": [
       "<Figure size 432x288 with 2 Axes>"
      ]
     },
     "metadata": {
      "needs_background": "light"
     },
     "output_type": "display_data"
    },
    {
     "name": "stdout",
     "output_type": "stream",
     "text": [
      "###################  lbfgs with hidden layers =  [100, 200, 500, 800]  ####################\n",
      "              precision    recall  f1-score   support\n",
      "\n",
      "           0       0.82      0.54      0.65       483\n",
      "           1       0.61      0.73      0.66       460\n",
      "           2       0.82      0.95      0.88       470\n",
      "\n",
      "    accuracy                           0.74      1413\n",
      "   macro avg       0.75      0.74      0.73      1413\n",
      "weighted avg       0.75      0.74      0.73      1413\n",
      "\n"
     ]
    },
    {
     "name": "stderr",
     "output_type": "stream",
     "text": [
      "d:\\program file\\python\\lib\\site-packages\\sklearn\\neural_network\\_multilayer_perceptron.py:559: ConvergenceWarning: lbfgs failed to converge (status=1):\n",
      "STOP: TOTAL NO. of ITERATIONS REACHED LIMIT.\n",
      "\n",
      "Increase the number of iterations (max_iter) or scale the data as shown in:\n",
      "    https://scikit-learn.org/stable/modules/preprocessing.html\n",
      "  self.n_iter_ = _check_optimize_result(\"lbfgs\", opt_res, self.max_iter)\n"
     ]
    },
    {
     "data": {
      "image/png": "[encoded data removed]",
      "text/plain": [
       "<Figure size 432x288 with 2 Axes>"
      ]
     },
     "metadata": {
      "needs_background": "light"
     },
     "output_type": "display_data"
    },
    {
     "name": "stdout",
     "output_type": "stream",
     "text": [
      "###################  lbfgs with hidden layers =  [100, 200, 500, 800]  ####################\n",
      "              precision    recall  f1-score   support\n",
      "\n",
      "           0       0.74      0.86      0.80       483\n",
      "           1       0.83      0.66      0.73       460\n",
      "           2       0.95      1.00      0.97       470\n",
      "\n",
      "    accuracy                           0.84      1413\n",
      "   macro avg       0.84      0.84      0.83      1413\n",
      "weighted avg       0.84      0.84      0.83      1413\n",
      "\n"
     ]
    },
    {
     "name": "stderr",
     "output_type": "stream",
     "text": [
      "d:\\program file\\python\\lib\\site-packages\\sklearn\\neural_network\\_multilayer_perceptron.py:559: ConvergenceWarning: lbfgs failed to converge (status=1):\n",
      "STOP: TOTAL NO. of ITERATIONS REACHED LIMIT.\n",
      "\n",
      "Increase the number of iterations (max_iter) or scale the data as shown in:\n",
      "    https://scikit-learn.org/stable/modules/preprocessing.html\n",
      "  self.n_iter_ = _check_optimize_result(\"lbfgs\", opt_res, self.max_iter)\n"
     ]
    },
    {
     "data": {
      "image/png": "[encoded data removed]",
      "text/plain": [
       "<Figure size 432x288 with 2 Axes>"
      ]
     },
     "metadata": {
      "needs_background": "light"
     },
     "output_type": "display_data"
    },
    {
     "name": "stdout",
     "output_type": "stream",
     "text": [
      "###################  lbfgs with hidden layers =  [100, 200, 500, 800]  ####################\n",
      "              precision    recall  f1-score   support\n",
      "\n",
      "           0       0.68      0.85      0.75       483\n",
      "           1       0.77      0.57      0.65       460\n",
      "           2       0.95      0.96      0.96       470\n",
      "\n",
      "    accuracy                           0.79      1413\n",
      "   macro avg       0.80      0.79      0.79      1413\n",
      "weighted avg       0.80      0.79      0.79      1413\n",
      "\n"
     ]
    },
    {
     "data": {
      "image/png": "[encoded data removed]",
      "text/plain": [
       "<Figure size 432x288 with 2 Axes>"
      ]
     },
     "metadata": {
      "needs_background": "light"
     },
     "output_type": "display_data"
    },
    {
     "name": "stdout",
     "output_type": "stream",
     "text": [
      "###################  sgd with hidden layers =  [100, 200, 500, 800]  ####################\n",
      "              precision    recall  f1-score   support\n",
      "\n",
      "           0       0.73      0.69      0.71       483\n",
      "           1       0.70      0.72      0.71       460\n",
      "           2       0.97      0.99      0.98       470\n",
      "\n",
      "    accuracy                           0.80      1413\n",
      "   macro avg       0.80      0.80      0.80      1413\n",
      "weighted avg       0.80      0.80      0.80      1413\n",
      "\n"
     ]
    },
    {
     "data": {
      "image/png": "[encoded data removed]",
      "text/plain": [
       "<Figure size 432x288 with 2 Axes>"
      ]
     },
     "metadata": {
      "needs_background": "light"
     },
     "output_type": "display_data"
    },
    {
     "name": "stdout",
     "output_type": "stream",
     "text": [
      "###################  sgd with hidden layers =  [100, 200, 500, 800]  ####################\n",
      "              precision    recall  f1-score   support\n",
      "\n",
      "           0       0.70      0.76      0.73       483\n",
      "           1       0.73      0.65      0.69       460\n",
      "           2       0.97      0.99      0.98       470\n",
      "\n",
      "    accuracy                           0.80      1413\n",
      "   macro avg       0.80      0.80      0.80      1413\n",
      "weighted avg       0.80      0.80      0.80      1413\n",
      "\n"
     ]
    },
    {
     "data": {
      "image/png": "[encoded data removed]",
      "text/plain": [
       "<Figure size 432x288 with 2 Axes>"
      ]
     },
     "metadata": {
      "needs_background": "light"
     },
     "output_type": "display_data"
    },
    {
     "name": "stdout",
     "output_type": "stream",
     "text": [
      "###################  sgd with hidden layers =  [100, 200, 500, 800]  ####################\n",
      "              precision    recall  f1-score   support\n",
      "\n",
      "           0       0.68      0.88      0.76       483\n",
      "           1       0.82      0.55      0.66       460\n",
      "           2       0.97      0.99      0.98       470\n",
      "\n",
      "    accuracy                           0.81      1413\n",
      "   macro avg       0.82      0.81      0.80      1413\n",
      "weighted avg       0.82      0.81      0.80      1413\n",
      "\n"
     ]
    },
    {
     "data": {
      "image/png": "[encoded data removed]",
      "text/plain": [
       "<Figure size 432x288 with 2 Axes>"
      ]
     },
     "metadata": {
      "needs_background": "light"
     },
     "output_type": "display_data"
    },
    {
     "name": "stdout",
     "output_type": "stream",
     "text": [
      "###################  sgd with hidden layers =  [100, 200, 500, 800]  ####################\n",
      "              precision    recall  f1-score   support\n",
      "\n",
      "           0       0.70      0.82      0.75       483\n",
      "           1       0.77      0.61      0.68       460\n",
      "           2       0.97      0.99      0.98       470\n",
      "\n",
      "    accuracy                           0.81      1413\n",
      "   macro avg       0.81      0.81      0.81      1413\n",
      "weighted avg       0.81      0.81      0.81      1413\n",
      "\n"
     ]
    },
    {
     "data": {
      "image/png": "[encoded data removed]",
      "text/plain": [
       "<Figure size 432x288 with 2 Axes>"
      ]
     },
     "metadata": {
      "needs_background": "light"
     },
     "output_type": "display_data"
    },
    {
     "name": "stdout",
     "output_type": "stream",
     "text": [
      "###################  adam with hidden layers =  [100, 200, 500, 800]  ####################\n",
      "              precision    recall  f1-score   support\n",
      "\n",
      "           0       0.86      0.47      0.60       483\n",
      "           1       0.60      0.91      0.73       460\n",
      "           2       0.98      0.95      0.97       470\n",
      "\n",
      "    accuracy                           0.77      1413\n",
      "   macro avg       0.81      0.78      0.76      1413\n",
      "weighted avg       0.81      0.77      0.76      1413\n",
      "\n"
     ]
    },
    {
     "data": {
      "image/png": "[encoded data removed]",
      "text/plain": [
       "<Figure size 432x288 with 2 Axes>"
      ]
     },
     "metadata": {
      "needs_background": "light"
     },
     "output_type": "display_data"
    },
    {
     "name": "stdout",
     "output_type": "stream",
     "text": [
      "###################  adam with hidden layers =  [100, 200, 500, 800]  ####################\n",
      "              precision    recall  f1-score   support\n",
      "\n",
      "           0       0.86      0.41      0.55       483\n",
      "           1       0.56      0.92      0.70       460\n",
      "           2       0.97      0.89      0.93       470\n",
      "\n",
      "    accuracy                           0.73      1413\n",
      "   macro avg       0.80      0.74      0.72      1413\n",
      "weighted avg       0.80      0.73      0.72      1413\n",
      "\n"
     ]
    },
    {
     "data": {
      "image/png": "[encoded data removed]",
      "text/plain": [
       "<Figure size 432x288 with 2 Axes>"
      ]
     },
     "metadata": {
      "needs_background": "light"
     },
     "output_type": "display_data"
    },
    {
     "name": "stdout",
     "output_type": "stream",
     "text": [
      "###################  adam with hidden layers =  [100, 200, 500, 800]  ####################\n",
      "              precision    recall  f1-score   support\n",
      "\n",
      "           0       0.84      0.54      0.66       483\n",
      "           1       0.61      0.88      0.72       460\n",
      "           2       0.98      0.92      0.95       470\n",
      "\n",
      "    accuracy                           0.78      1413\n",
      "   macro avg       0.81      0.78      0.78      1413\n",
      "weighted avg       0.81      0.78      0.78      1413\n",
      "\n"
     ]
    },
    {
     "data": {
      "image/png": "[encoded data removed]",
      "text/plain": [
       "<Figure size 432x288 with 2 Axes>"
      ]
     },
     "metadata": {
      "needs_background": "light"
     },
     "output_type": "display_data"
    },
    {
     "name": "stdout",
     "output_type": "stream",
     "text": [
      "###################  adam with hidden layers =  [100, 200, 500, 800]  ####################\n",
      "              precision    recall  f1-score   support\n",
      "\n",
      "           0       0.85      0.46      0.59       483\n",
      "           1       0.57      0.90      0.70       460\n",
      "           2       0.97      0.87      0.92       470\n",
      "\n",
      "    accuracy                           0.74      1413\n",
      "   macro avg       0.80      0.74      0.74      1413\n",
      "weighted avg       0.80      0.74      0.74      1413\n",
      "\n"
     ]
    }
   ],
   "source": [
    "from sklearn.neural_network import MLPClassifier\n",
    "from sklearn.datasets import make_classification\n",
    "from sklearn.model_selection import train_test_split\n",
    "classes = ['0','1','2']\n",
    "solver = [\"lbfgs\", \"sgd\", \"adam\"]  \n",
    "hls = [100,200,500,800]\n",
    "temp = y_train.to_numpy()\n",
    "result = temp.ravel()\n",
    "\n",
    "for s in solver:\n",
    "    for h in hls:\n",
    "        if s == \"lbfgs\":\n",
    "            clf = MLPClassifier(hidden_layer_sizes = h,random_state=1, max_iter=5000, solver = s).fit(x_train, result)\n",
    "        else:\n",
    "            clf = MLPClassifier(hidden_layer_sizes = h,random_state=1, max_iter=5000, solver = s).fit(x_train, result)\n",
    "        predict=clf.predict(x_test)\n",
    "        confusion_matrix= metrics.confusion_matrix(y_test, predict)\n",
    "        clf.score(x_test, y_test)\n",
    "        plot_confusion_matrix(confusion_matrix, classes)\n",
    "        plt.show()\n",
    "        classification_metrics = metrics.classification_report(y_test, np.round(predict), target_names=classes)\n",
    "        cm_dict = metrics.classification_report(y_test, np.round(predict), target_names=classes, output_dict=True)\n",
    "        print(\"################### \",s, \"with hidden layers = \", hls, \" ####################\")\n",
    "        print(classification_metrics)"
   ]
  }
 ],
 "metadata": {
  "kernelspec": {
   "display_name": "Python 3.10.4 64-bit",
   "language": "python",
   "name": "python3"
  },
  "language_info": {
   "codemirror_mode": {
    "name": "ipython",
    "version": 3
   },
   "file_extension": ".py",
   "mimetype": "text/x-python",
   "name": "python",
   "nbconvert_exporter": "python",
   "pygments_lexer": "ipython3",
   "version": "3.10.4"
  },
  "orig_nbformat": 4,
  "vscode": {
   "interpreter": {
    "hash": "9dd100f9de71ce83bbfabba929d1fb833e52fa3763e9df0523c4cf0b3e4fea5d"
   }
  }
 },
 "nbformat": 4,
 "nbformat_minor": 2
}
